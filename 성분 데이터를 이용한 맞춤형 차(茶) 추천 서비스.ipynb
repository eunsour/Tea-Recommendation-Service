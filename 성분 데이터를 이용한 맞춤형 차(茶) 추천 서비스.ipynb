{
 "cells": [
  {
   "cell_type": "code",
   "execution_count": null,
   "metadata": {},
   "outputs": [],
   "source": [
    "import sys\n",
    "import pandas as pd\n",
    "import numpy as np\n",
    "import warnings; warnings.filterwarnings('ignore')\n",
    "\n",
    "name = sys.argv[1]\n",
    "print(name)\n",
    "\n",
    "tea = pd.read_csv('C://Users/SM107/Desktop/new/teas.csv', encoding = 'EUC-KR')\n",
    "tea.set_index('tea_id')"
   ]
  },
  {
   "cell_type": "code",
   "execution_count": null,
   "metadata": {},
   "outputs": [],
   "source": [
    "tea_df = tea[['tea_id','tea_name','efficacies', 'score_average', 'score_count']]\n",
    "pd.set_option('max_colwidth', 100)"
   ]
  },
  {
   "cell_type": "code",
   "execution_count": null,
   "metadata": {},
   "outputs": [],
   "source": [
    "from ast import literal_eval\n",
    "\n",
    "tea_df['efficacies'] = tea_df['efficacies'].apply(literal_eval)"
   ]
  },
  {
   "cell_type": "code",
   "execution_count": null,
   "metadata": {
    "scrolled": true
   },
   "outputs": [],
   "source": [
    "tea_df['efficacies'] = tea_df['efficacies'].apply(lambda x : [ y['efficacy_id'] for y in x])"
   ]
  },
  {
   "cell_type": "code",
   "execution_count": null,
   "metadata": {},
   "outputs": [],
   "source": [
    "import cx_Oracle\n",
    "user_list = []\n",
    "def select(var):\n",
    "    conn = cx_Oracle.connect()\n",
    "    cursor = conn.cursor()\n",
    "    \n",
    "    sql = \"select * from survey\"\n",
    "    cursor.execute(sql)\n",
    "\n",
    "    for row in cursor :\n",
    "        user_list.append(row)\n",
    "        print(row)\n",
    "    cursor.close()   \n",
    "    conn.close()\n",
    "select(())"
   ]
  },
  {
   "cell_type": "code",
   "execution_count": null,
   "metadata": {
    "scrolled": true
   },
   "outputs": [],
   "source": [
    "ul = pd.DataFrame(user_list)\n",
    "\n",
    "for i in range(len(ul[1])):\n",
    "    a = ul[1]\n",
    "    a[i] = a[i].replace(\"0\",\"AAAX, AACO, AADF, AAAM, AAAP, AAAL\")\n",
    "    a[i] = a[i].replace(\"1\",\"AAAF, AACG, AACI, AACN, AACS, AADB, AABI, AABR, AADJ, AABG, AADF, AAAM, AAAP, AAAL\")\n",
    "    a = ul[2]\n",
    "    a[i] = a[i].replace(\"1\",\"AADE\")\n",
    "    a = ul[3]\n",
    "    a[i] = a[i].replace(\"1\",\"AACT\")\n",
    "    a = ul[4]\n",
    "    a[i] = a[i].replace(\"1\",\"AABD, AADN\")\n",
    "    a = ul[5]\n",
    "    a[i] = a[i].replace(\"1\",\"AAAC, AAAN, AAAU, AADP, AACL, AADH, AAAW, AAAE\")\n",
    "    a = ul[6]\n",
    "    a[i] = a[i].replace(\"1\",\"AABE, AADT, AACW, AABO, AACU, AACR\")\n",
    "    a = ul[7]\n",
    "    a[i] = a[i].replace(\"1\",\"AAAH, AAAG, AAAR, AAAI, AAAV, AACZ, AADT, AACE, AAAO, AABK, AACB, AABZ, AACP, AADL, AAAZ\")\n",
    "    a = ul[8]\n",
    "    a[i] = a[i].replace(\"1\",\"AAAQ, AADO, AABK\")\n",
    "    a = ul[9]\n",
    "    a[i] = a[i].replace(\"1\",\"AACH, AABJ, AABP, AABA, AABB, AAAY, AABY\")\n",
    "    a = ul[10]\n",
    "    a[i] = a[i].replace(\"1\",\"AABT, AACA, AABW\")\n",
    "    a = ul[11]\n",
    "    a[i] = a[i].replace(\"1\",\"AABS, AACX, AABK\")\n",
    "    a = ul[12]\n",
    "    a[i] = a[i].replace(\"1\",\"AADA\")\n",
    "    a = ul[13]\n",
    "    a[i] = a[i].replace(\"1\",\"AAAJ\")\n",
    "    \n",
    "    ef_list = []\n",
    "    for x in range(len(ul)):\n",
    "        a = list(ul.iloc[x,:])\n",
    "        b = a.count('0')\n",
    "        for y in range(b):\n",
    "            a.remove('0')\n",
    "        ef_list.append(a)\n",
    "    \n",
    "    EF = {}\n",
    "    for i in range(len(ef_list)):\n",
    "        EF[ef_list[i][0]]=ef_list[i][1:]\n",
    "    \n",
    "    H = pd.DataFrame((EF.keys(),EF.values()))\n",
    "    H = H.T\n",
    "    H.columns = ['tea_name', 'efficacies']"
   ]
  },
  {
   "cell_type": "code",
   "execution_count": null,
   "metadata": {},
   "outputs": [],
   "source": [
    "tea_df = pd.concat([tea_df, H],axis = 0, ignore_index=True)"
   ]
  },
  {
   "cell_type": "code",
   "execution_count": null,
   "metadata": {},
   "outputs": [],
   "source": [
    "from sklearn.feature_extraction.text import CountVectorizer\n",
    "\n",
    "tea_df['efficacies_literal'] = tea_df['efficacies'].apply(lambda x : (' ').join(x))\n",
    "\n",
    "count_vect = CountVectorizer(min_df=0, ngram_range=(1,2))\n",
    "efficacy_mat = count_vect.fit_transform(tea_df['efficacies_literal'])\n",
    "print(efficacy_mat.shape)"
   ]
  },
  {
   "cell_type": "code",
   "execution_count": null,
   "metadata": {
    "scrolled": true
   },
   "outputs": [],
   "source": [
    "from sklearn.metrics.pairwise import cosine_similarity\n",
    "\n",
    "efficacy_sim = cosine_similarity(efficacy_mat, efficacy_mat)\n",
    "print(efficacy_sim.shape)\n",
    "print(efficacy_sim[:1])"
   ]
  },
  {
   "cell_type": "code",
   "execution_count": null,
   "metadata": {
    "scrolled": false
   },
   "outputs": [],
   "source": [
    "efficacy_sim_sorted_ind = efficacy_sim.argsort()[:, ::-1]\n",
    "print(efficacy_sim_sorted_ind[:1])"
   ]
  },
  {
   "cell_type": "code",
   "execution_count": null,
   "metadata": {},
   "outputs": [],
   "source": [
    "def find_sim_tea1(df, sorted_ind, tea_name, top_n=10):\n",
    "    \n",
    "    title_tea = tea_df[tea_df['tea_name'] == tea_name]\n",
    "    title_index = title_tea.index.values\n",
    "    \n",
    "    similar_indexes = sorted_ind[title_index, :(top_n)]\n",
    "    similar_indexes = similar_indexes[similar_indexes != title_index]\n",
    "\n",
    "    similar_indexes = similar_indexes.reshape(-1)\n",
    "    \n",
    "    return df.iloc[similar_indexes]"
   ]
  },
  {
   "cell_type": "code",
   "execution_count": null,
   "metadata": {},
   "outputs": [],
   "source": [
    "conn = cx_Oracle.connect()\n",
    "str = [name]\n",
    "    \n",
    "similar_teas = find_sim_tea1(tea_df, efficacy_sim_sorted_ind, name ,10)\n",
    "similar_teas = similar_teas.dropna(axis=0)\n",
    "similar_teas['tea_id'] = pd.to_numeric(similar_teas['tea_id'])\n",
    "similar_teas[['tea_id', 'tea_name', 'score_average']]\n",
    "    \n",
    "a = similar_teas['tea_id'][:5]\n",
    "\n",
    "tea_1 = {'member_id' : str, 'tea_1' : a.values[0]}\n",
    "survey_result_1 = pd.DataFrame((tea_1))\n",
    "rows_1 = [tuple(x) for x in survey_result_1.to_records(index = False)]\n",
    "\n",
    "tea_2 = {'member_id' : str, 'tea_2' : a.values[1]}\n",
    "survey_result_2 = pd.DataFrame((tea_2))\n",
    "rows_2 = [tuple(x) for x in survey_result_2.to_records(index = False)]\n",
    "\n",
    "tea_3 = {'member_id' : str, 'tea_3' : a.values[2]}\n",
    "survey_result_3 = pd.DataFrame((tea_3))\n",
    "rows_3 = [tuple(x) for x in survey_result_3.to_records(index = False)]\n",
    "\n",
    "tea_4 = {'member_id' : str, 'tea_4' : a.values[3]}\n",
    "survey_result_4 = pd.DataFrame((tea_4))\n",
    "rows_4 = [tuple(x) for x in survey_result_4.to_records(index = False)]\n",
    "\n",
    "tea_5 = {'member_id' : str, 'tea_5' : a.values[4]}\n",
    "survey_result_5 = pd.DataFrame((tea_5))\n",
    "rows_5 = [tuple(x) for x in survey_result_5.to_records(index = False)]\n",
    "\n",
    "cursor = conn.cursor()\n",
    "\n",
    "print(rows_1)\n",
    "sql = \"insert into survey_result_1 values(:1, :2)\"\n",
    "cursor.executemany(sql, rows_1)  \n",
    "print(cursor.rowcount, \"record inserted.\\n\")\n",
    "\n",
    "print(rows_2)\n",
    "sql = \"insert into survey_result_2 values(:1, :2)\"\n",
    "cursor.executemany(sql, rows_2)  \n",
    "print(cursor.rowcount, \"record inserted.\\n\")\n",
    "\n",
    "print(rows_3)\n",
    "sql = \"insert into survey_result_3 values(:1, :2)\"    \n",
    "cursor.executemany(sql, rows_1)  \n",
    "print(cursor.rowcount, \"record inserted.\\n\")\n",
    "\n",
    "print(rows_4)\n",
    "sql = \"insert into survey_result_4 values(:1, :2)\"    \n",
    "cursor.executemany(sql, rows_1)   \n",
    "print(cursor.rowcount, \"record inserted.\\n\")\n",
    "\n",
    "print(rows_5)\n",
    "sql = \"insert into survey_result_5 values(:1, :2)\"    \n",
    "cursor.executemany(sql, rows_1)   \n",
    "print(cursor.rowcount, \"record inserted.\\n\")\n",
    "\n",
    "cursor.close()             \n",
    "conn.commit()\n",
    "conn.close()"
   ]
  },
  {
   "cell_type": "code",
   "execution_count": null,
   "metadata": {},
   "outputs": [],
   "source": [
    "C = tea_df['score_average'].mean()\n",
    "m = tea_df['score_count'].quantile(0.6)\n",
    "print('C:',round(C,3), 'm:',round(m,3))"
   ]
  },
  {
   "cell_type": "code",
   "execution_count": null,
   "metadata": {},
   "outputs": [],
   "source": [
    "percentile = 0.6\n",
    "m = tea_df['score_count'].quantile(percentile)\n",
    "C = tea_df['score_average'].mean()\n",
    "\n",
    "def weighted_vote_average(record):\n",
    "    v = record['score_count']\n",
    "    R = record['score_average']\n",
    "    \n",
    "    return ( (v/(v+m)) * R ) + ( (m/(m+v)) * C )   \n",
    "\n",
    "tea_df['weighted_vote'] = tea_df.apply(weighted_vote_average, axis=1) "
   ]
  },
  {
   "cell_type": "code",
   "execution_count": null,
   "metadata": {},
   "outputs": [],
   "source": [
    "def find_sim_tea2(df, sorted_ind, tea_name, top_n=10):\n",
    "    title_tea = tea_df[tea_df['tea_name'] == tea_name]\n",
    "    title_index = title_tea.index.values\n",
    "    \n",
    "    similar_indexes = sorted_ind[title_index, :(top_n*2)]\n",
    "    similar_indexes = similar_indexes.reshape(-1)\n",
    "    similar_indexes = similar_indexes[similar_indexes != title_index]\n",
    "    \n",
    "    return tea_df.iloc[similar_indexes].sort_values('weighted_vote', ascending=False)[:top_n]"
   ]
  },
  {
   "cell_type": "code",
   "execution_count": null,
   "metadata": {},
   "outputs": [],
   "source": [
    "conn = cx_Oracle.connect()\n",
    "str = [name]\n",
    "    \n",
    "similar_teas = find_sim_tea2(tea_df, efficacy_sim_sorted_ind, name ,10)\n",
    "similar_teas = similar_teas.dropna(axis=0)\n",
    "similar_teas['tea_id'] = pd.to_numeric(similar_teas['tea_id'])\n",
    "similar_teas[['tea_id', 'tea_name', 'score_average']]\n",
    "    \n",
    "a = similar_teas['tea_id'][:5]\n",
    "\n",
    "tea_1 = {'member_id' : str, 'tea_1' : a.values[0]}\n",
    "survey_result_score_1 = pd.DataFrame((tea_1))\n",
    "rows_1 = [tuple(x) for x in survey_result_score_1.to_records(index = False)]\n",
    "\n",
    "tea_2 = {'member_id' : str, 'tea_2' : a.values[1]}\n",
    "survey_result_score_2 = pd.DataFrame((tea_2))\n",
    "rows_2 = [tuple(x) for x in survey_result_score_2.to_records(index = False)]\n",
    "\n",
    "tea_3 = {'member_id' : str, 'tea_3' : a.values[2]}\n",
    "survey_result_score_3 = pd.DataFrame((tea_3))\n",
    "rows_3 = [tuple(x) for x in survey_result_score_3.to_records(index = False)]\n",
    "\n",
    "tea_4 = {'member_id' : str, 'tea_4' : a.values[3]}\n",
    "survey_result_score_4 = pd.DataFrame((tea_4))\n",
    "rows_4 = [tuple(x) for x in survey_result_score_4.to_records(index = False)]\n",
    "\n",
    "tea_5 = {'member_id' : str, 'tea_5' : a.values[4 ]}\n",
    "survey_result_score_5 = pd.DataFrame((tea_5))\n",
    "rows_5 = [tuple(x) for x in survey_result_score_5.to_records(index = False)]\n",
    "\n",
    "cursor = conn.cursor()\n",
    "\n",
    "print(rows_1)\n",
    "sql = \"insert into survey_result_score_1 values(:1, :2)\"\n",
    "cursor.executemany(sql, rows_1)  \n",
    "print(cursor.rowcount, \"record inserted.\\n\")\n",
    "\n",
    "print(rows_2)\n",
    "sql = \"insert into survey_result_score_2 values(:1, :2)\"\n",
    "cursor.executemany(sql, rows_2)   \n",
    "print(cursor.rowcount, \"record inserted.\\n\")\n",
    "\n",
    "print(rows_3)\n",
    "sql = \"insert into survey_result_score_3 values(:1, :2)\"    \n",
    "cursor.executemany(sql, rows_3)  \n",
    "print(cursor.rowcount, \"record inserted.\\n\")\n",
    "\n",
    "print(rows_4)\n",
    "sql = \"insert into survey_result_score_4 values(:1, :2)\"    \n",
    "cursor.executemany(sql, rows_4)  \n",
    "print(cursor.rowcount, \"record inserted.\\n\")\n",
    "\n",
    "print(rows_5)\n",
    "sql = \"insert into survey_result_score_5 values(:1, :2)\"    \n",
    "cursor.executemany(sql, rows_5)   \n",
    "print(cursor.rowcount, \"record inserted.\\n\")\n",
    "\n",
    "cursor.close()             \n",
    "conn.commit()\n",
    "conn.close()"
   ]
  }
 ],
 "metadata": {
  "kernelspec": {
   "display_name": "Python 3",
   "language": "python",
   "name": "python3"
  },
  "language_info": {
   "codemirror_mode": {
    "name": "ipython",
    "version": 3
   },
   "file_extension": ".py",
   "mimetype": "text/x-python",
   "name": "python",
   "nbconvert_exporter": "python",
   "pygments_lexer": "ipython3",
   "version": "3.7.6"
  }
 },
 "nbformat": 4,
 "nbformat_minor": 4
}
